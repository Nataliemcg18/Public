{
 "cells": [
  {
   "cell_type": "markdown",
   "metadata": {},
   "source": [
    "# Homework 15"
   ]
  },
  {
   "cell_type": "markdown",
   "metadata": {},
   "source": [
    "Name:Natalie McGuckin"
   ]
  },
  {
   "cell_type": "markdown",
   "metadata": {},
   "source": [
    "**1a.**  Import the flight data from the file MyIndyFlights.csv \n",
    "in a data frame.  You just created this file in Project 14. \n",
    "It contains all of the flights that departed from Indianapolis \n",
    "since January 1, 2000. \n",
    "\n",
    "(There should be 356561 flights altogether.) \n",
    "\n",
    "Hint:  When you import the data, if you use the read.csv command, \n",
    "there is no header, so be sure to use header=FALSE. "
   ]
  },
  {
   "cell_type": "code",
   "execution_count": 2,
   "metadata": {
    "collapsed": true
   },
   "outputs": [],
   "source": [
    "myDF= read.csv(\"MyINDYFlights.csv\",header=FALSE)"
   ]
  },
  {
   "cell_type": "markdown",
   "metadata": {},
   "source": [
    "Explain your solution below:"
   ]
  },
  {
   "cell_type": "markdown",
   "metadata": {},
   "source": [
    "I used read.csv to load the data into R."
   ]
  },
  {
   "cell_type": "markdown",
   "metadata": {},
   "source": [
    "**1b.**  What are the five most popular destinations \n",
    "for travelers who depart Indianapolis since January 1, 2000 ? \n",
    "List each of these 5 destinations, and the number of flights to each one. "
   ]
  },
  {
   "cell_type": "code",
   "execution_count": 4,
   "metadata": {},
   "outputs": [
    {
     "data": {
      "text/plain": [
       "\n",
       "  MSP   DFW   DTW   ATL   ORD \n",
       "17246 17682 23918 27236 40269 "
      ]
     },
     "metadata": {},
     "output_type": "display_data"
    }
   ],
   "source": [
    "tail(sort(table(myDF$V18)),5)"
   ]
  },
  {
   "cell_type": "markdown",
   "metadata": {},
   "source": [
    "Explain your solution below:"
   ]
  },
  {
   "cell_type": "markdown",
   "metadata": {},
   "source": [
    "Used table to count all the flights per desination then i sorted it and grabbed the last five entries. "
   ]
  },
  {
   "cell_type": "markdown",
   "metadata": {},
   "source": [
    "**2a.**  Consider the year 2005 (only).  Tabulate the number of flights per day. "
   ]
  },
  {
   "cell_type": "code",
   "execution_count": 5,
   "metadata": {
    "collapsed": true
   },
   "outputs": [],
   "source": [
    "myDF=read.csv(\"/depot/statclass/data/dataexpo2009/2005.csv\")"
   ]
  },
  {
   "cell_type": "code",
   "execution_count": 6,
   "metadata": {},
   "outputs": [
    {
     "data": {
      "text/plain": [
       "\n",
       "  1 1  1 10  1 11  1 12  1 13  1 14  1 15  1 16  1 17  1 18  1 19   1 2  1 20 \n",
       "17305 19858 19513 19516 19825 19866 16826 18775 19804 19484 19483 19745 19802 \n",
       " 1 21  1 22  1 23  1 24  1 25  1 26  1 27  1 28  1 29   1 3  1 30  1 31   1 4 \n",
       "19822 16932 18773 19769 19406 19412 19764 19835 16931 20396 18708 19858 19855 \n",
       "  1 5   1 6   1 7   1 8   1 9  10 1 10 10 10 11 10 12 10 13 10 14 10 15 10 16 \n",
       "19802 19945 19996 16983 18935 16477 19885 19515 19701 19883 19910 16628 18910 \n",
       "10 17 10 18 10 19  10 2 10 20 10 21 10 22 10 23 10 24 10 25 10 26 10 27 10 28 \n",
       "19851 19495 19732 18812 19902 19928 16656 18922 19864 19528 19739 19899 19909 \n",
       "10 29  10 3 10 30 10 31  10 4  10 5  10 6  10 7  10 8  10 9  11 1 11 10 11 11 \n",
       "16620 19798 18793 19716 19459 19739 19921 19934 16662 18924 19132 19764 19756 \n",
       "11 12 11 13 11 14 11 15 11 16 11 17 11 18 11 19  11 2 11 20 11 21 11 22 11 23 \n",
       "16397 18682 19712 19083 19552 19965 20006 16478 19562 18820 19712 19881 20052 \n",
       "11 24 11 25 11 26 11 27 11 28 11 29  11 3 11 30  11 4  11 5  11 6  11 7  11 8 \n",
       "14634 16393 17089 19434 19976 19506 19827 19350 19820 16403 18706 19796 19145 \n",
       " 11 9  12 1 12 10 12 11 12 12 12 13 12 14 12 15 12 16 12 17 12 18 12 19  12 2 \n",
       "19505 19246 15631 18066 19112 18402 18647 19379 19515 16402 18423 19469 19272 \n",
       "12 20 12 21 12 22 12 23 12 24 12 25 12 26 12 27 12 28 12 29  12 3 12 30 12 31 \n",
       "19069 19436 19548 19521 15761 16618 19336 19356 19320 19392 15679 19382 15921 \n",
       " 12 4  12 5  12 6  12 7  12 8  12 9   2 1  2 10  2 11  2 12  2 13  2 14  2 15 \n",
       "18064 19112 18401 18451 19187 19225 19533 19978 20028 17089 18952 19975 19751 \n",
       " 2 16  2 17  2 18  2 19   2 2  2 20  2 21  2 22  2 23  2 24  2 25  2 26  2 27 \n",
       "20002 20299 20375 17406 19519 19011 20174 20224 20211 20288 20332 17542 19304 \n",
       " 2 28   2 3   2 4   2 5   2 6   2 7   2 8   2 9   3 1  3 10  3 11  3 12  3 13 \n",
       "20262 19855 19927 17082 18887 19972 19663 19691 19993 20498 20520 17664 19477 \n",
       " 3 14  3 15  3 16  3 17  3 18  3 19   3 2  3 20  3 21  3 22  3 23  3 24  3 25 \n",
       "20462 20324 20401 20512 20542 17687 20217 19498 20477 20338 20411 20496 20480 \n",
       " 3 26  3 27  3 28  3 29   3 3  3 30  3 31   3 4   3 5   3 6   3 7   3 8   3 9 \n",
       "17543 19356 20456 20388 20415 20394 20477 20468 17643 19425 20440 20142 20396 \n",
       "  4 1  4 10  4 11  4 12  4 13  4 14  4 15  4 16  4 17  4 18  4 19   4 2  4 20 \n",
       "20553 19528 20468 20128 20336 20491 20521 17654 19525 20462 20126 17669 20333 \n",
       " 4 21  4 22  4 23  4 24  4 25  4 26  4 27  4 28  4 29   4 3  4 30   4 4   4 5 \n",
       "20472 20512 17672 19526 20453 20108 20310 20456 20486 19502 17594 20459 20140 \n",
       "  4 6   4 7   4 8   4 9   5 1  5 10  5 11  5 12  5 13  5 14  5 15  5 16  5 17 \n",
       "20342 20491 20519 17656 19662 20148 20341 20534 20536 17754 19592 20499 20146 \n",
       " 5 18  5 19   5 2  5 20  5 21  5 22  5 23  5 24  5 25  5 26  5 27  5 28  5 29 \n",
       "20334 20488 20561 20492 17688 19513 20446 20088 20366 20491 20499 17537 17399 \n",
       "  5 3  5 30  5 31   5 4   5 5   5 6   5 7   5 8   5 9   6 1  6 10  6 11  6 12 \n",
       "20219 19520 20375 20454 20610 20620 17760 19615 20515 20410 20831 18581 19929 \n",
       " 6 13  6 14  6 15  6 16  6 17  6 18  6 19   6 2  6 20  6 21  6 22  6 23  6 24 \n",
       "20810 20719 20810 20832 20883 18625 19950 20539 20855 20744 20828 20872 20899 \n",
       " 6 25  6 26  6 27  6 28  6 29   6 3  6 30   6 4   6 5   6 6   6 7   6 8   6 9 \n",
       "18639 19986 20889 20844 20852 20562 20872 17768 19605 20549 20332 20417 20763 \n",
       "  7 1  7 10  7 11  7 12  7 13  7 14  7 15  7 16  7 17  7 18  7 19   7 2  7 20 \n",
       "20931 20029 20925 20800 20876 20929 20959 18655 20037 20937 20810 18435 20886 \n",
       " 7 21  7 22  7 23  7 24  7 25  7 26  7 27  7 28  7 29   7 3  7 30  7 31   7 4 \n",
       "20930 20962 18645 20030 20922 20801 20877 20925 20945 17289 18634 20009 19487 \n",
       "  7 5   7 6   7 7   7 8   7 9   8 1  8 10  8 11  8 12  8 13  8 14  8 15  8 16 \n",
       "20884 20887 20931 20948 18646 21013 20979 21022 21037 18733 20071 20952 20643 \n",
       " 8 17  8 18  8 19   8 2  8 20  8 21  8 22  8 23  8 24  8 25  8 26  8 27  8 28 \n",
       "20890 20941 20937 20896 18313 19735 20647 20262 20271 20569 20605 18050 19605 \n",
       " 8 29   8 3  8 30  8 31   8 4   8 5   8 6   8 7   8 8   8 9   9 1  9 10  9 11 \n",
       "20535 20977 20227 20170 21022 21041 18744 20111 21006 20900 20380 16742 18777 \n",
       " 9 12  9 13  9 14  9 15  9 16  9 17  9 18  9 19   9 2  9 20  9 21  9 22  9 23 \n",
       "19838 19448 19478 19837 19858 16419 18809 19816 20436 19435 19461 19847 19877 \n",
       " 9 24  9 25  9 26  9 27  9 28  9 29   9 3  9 30   9 4   9 5   9 6   9 7   9 8 \n",
       "16425 18821 19804 19429 19453 19836 16967 19836 16280 19358 20051 19629 19968 \n",
       "  9 9 \n",
       "19938 "
      ]
     },
     "metadata": {},
     "output_type": "display_data"
    }
   ],
   "source": [
    "table(paste(myDF$Month, myDF$DayofMonth))"
   ]
  },
  {
   "cell_type": "markdown",
   "metadata": {},
   "source": [
    "Explain your solution below:"
   ]
  },
  {
   "cell_type": "markdown",
   "metadata": {},
   "source": [
    "Downloaded the file and used paste to tabulate the number of flights per day. "
   ]
  },
  {
   "cell_type": "markdown",
   "metadata": {
    "collapsed": true
   },
   "source": [
    "**2b.** On each of the most popular five days, how many flights are there?"
   ]
  },
  {
   "cell_type": "code",
   "execution_count": 7,
   "metadata": {},
   "outputs": [
    {
     "data": {
      "text/plain": [
       "\n",
       "  8 1  8 11   8 4  8 12   8 5 \n",
       "21013 21022 21022 21037 21041 "
      ]
     },
     "metadata": {},
     "output_type": "display_data"
    }
   ],
   "source": [
    "tail(sort(table(paste(myDF$Month, myDF$DayofMonth))),5)"
   ]
  },
  {
   "cell_type": "markdown",
   "metadata": {},
   "source": [
    "Explain your solution below:"
   ]
  },
  {
   "cell_type": "markdown",
   "metadata": {},
   "source": [
    "Used tail grabs the the entires at the end. "
   ]
  },
  {
   "cell_type": "markdown",
   "metadata": {},
   "source": [
    "**2c.** On each of the least popular five days, how many flights are there? "
   ]
  },
  {
   "cell_type": "code",
   "execution_count": 9,
   "metadata": {},
   "outputs": [
    {
     "data": {
      "text/plain": [
       "\n",
       "11 24 12 10  12 3 12 24 12 31 \n",
       "14634 15631 15679 15761 15921 "
      ]
     },
     "metadata": {},
     "output_type": "display_data"
    }
   ],
   "source": [
    "head(sort(table(paste(myDF$Month, myDF$DayofMonth))),5)"
   ]
  },
  {
   "cell_type": "markdown",
   "metadata": {},
   "source": [
    "Head grabs the entries at the beginnng. "
   ]
  },
  {
   "cell_type": "markdown",
   "metadata": {},
   "source": []
  }
 ],
 "metadata": {
  "kernelspec": {
   "display_name": "R",
   "language": "R",
   "name": "ir"
  },
  "language_info": {
   "codemirror_mode": "r",
   "file_extension": ".r",
   "mimetype": "text/x-r-source",
   "name": "R",
   "pygments_lexer": "r",
   "version": "3.4.3"
  }
 },
 "nbformat": 4,
 "nbformat_minor": 2
}
