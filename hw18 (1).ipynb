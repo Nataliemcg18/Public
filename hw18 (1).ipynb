{
 "cells": [
  {
   "cell_type": "markdown",
   "metadata": {},
   "source": [
    "# Project 18"
   ]
  },
  {
   "cell_type": "markdown",
   "metadata": {},
   "source": [
    "Natalie McGuckin"
   ]
  },
  {
   "cell_type": "markdown",
   "metadata": {},
   "source": [
    "Consider the election data stored at: \n",
    "    /depot/statclass/data/election2018/itcont.txt   \n",
    "The data set is very large.  You might choose to analyze a smaller \n",
    "portion of the data initially, \n",
    "and then to run your code on the full data set, once you have the code \n",
    "working correctly. \n",
    "\n",
    "Sometimes there will be warnings in Jupyter Notebooks, and you need to \n",
    "scroll past the warnings, \n",
    "to see the results of your analysis.  This is a known issue with Jupyter \n",
    "Notebooks, and \n",
    "other people are experiencing it too: \n",
    "https://github.com/IRkernel/IRkernel/issues/590 \n",
    "\n",
    "Recall that the data dictionary for the data is found here: \n",
    "https://www.fec.gov/campaign-finance-data/contributions-individuals-file-description "
   ]
  },
  {
   "cell_type": "markdown",
   "metadata": {},
   "source": [
    "**1a.**  The first column contains the \"Filer identification number\" for \n",
    "various committees. \n",
    "     Which of these committees received the largest monetary amount of \n",
    "donations? "
   ]
  },
  {
   "cell_type": "code",
   "execution_count": 20,
   "metadata": {},
   "outputs": [],
   "source": [
    "myDF = read.table(\"/depot/statclass/data/election2018/itcont.txt\",sep=\"|\", fill = T,quote='')"
   ]
  },
  {
   "cell_type": "code",
   "execution_count": 21,
   "metadata": {},
   "outputs": [
    {
     "name": "stderr",
     "output_type": "stream",
     "text": [
      "ERROR while rich displaying an object: Error in dn[[2L]]: subscript out of bounds\n",
      "\n",
      "Traceback:\n",
      "1. FUN(X[[i]], ...)\n",
      "2. tryCatch(withCallingHandlers({\n",
      " .     rpr <- mime2repr[[mime]](obj)\n",
      " .     if (is.null(rpr)) \n",
      " .         return(NULL)\n",
      " .     prepare_content(is.raw(rpr), rpr)\n",
      " . }, error = error_handler), error = outer_handler)\n",
      "3. tryCatchList(expr, classes, parentenv, handlers)\n",
      "4. tryCatchOne(expr, names, parentenv, handlers[[1L]])\n",
      "5. doTryCatch(return(expr), name, parentenv, handler)\n",
      "6. withCallingHandlers({\n",
      " .     rpr <- mime2repr[[mime]](obj)\n",
      " .     if (is.null(rpr)) \n",
      " .         return(NULL)\n",
      " .     prepare_content(is.raw(rpr), rpr)\n",
      " . }, error = error_handler)\n",
      "7. mime2repr[[mime]](obj)\n",
      "8. repr_markdown.integer(obj)\n",
      "9. repr_vector_generic(html_escape_names(obj), \"%s. %s\\n\", \"%s\\n:   %s\", \n",
      " .     \"**%s:** %s\", \"%s\\n\\n\", item_uses_numbers = TRUE, escape_fun = html_escape)\n",
      "10. html_escape_names(obj)\n",
      "11. .escape_names(obj, \"html\")\n",
      "12. colnames(obj)\n",
      "ERROR while rich displaying an object: Error in dn[[2L]]: subscript out of bounds\n",
      "\n",
      "Traceback:\n",
      "1. FUN(X[[i]], ...)\n",
      "2. tryCatch(withCallingHandlers({\n",
      " .     rpr <- mime2repr[[mime]](obj)\n",
      " .     if (is.null(rpr)) \n",
      " .         return(NULL)\n",
      " .     prepare_content(is.raw(rpr), rpr)\n",
      " . }, error = error_handler), error = outer_handler)\n",
      "3. tryCatchList(expr, classes, parentenv, handlers)\n",
      "4. tryCatchOne(expr, names, parentenv, handlers[[1L]])\n",
      "5. doTryCatch(return(expr), name, parentenv, handler)\n",
      "6. withCallingHandlers({\n",
      " .     rpr <- mime2repr[[mime]](obj)\n",
      " .     if (is.null(rpr)) \n",
      " .         return(NULL)\n",
      " .     prepare_content(is.raw(rpr), rpr)\n",
      " . }, error = error_handler)\n",
      "7. mime2repr[[mime]](obj)\n",
      "8. repr_latex.integer(obj)\n",
      "9. repr_vector_generic(latex_escape_names(obj), \"\\\\item %s\\n\", \"\\\\item[%s] %s\\n\", \n",
      " .     \"\\\\textbf{%s:} %s\", enum_wrap = \"\\\\begin{enumerate*}\\n%s\\\\end{enumerate*}\\n\", \n",
      " .     named_wrap = \"\\\\begin{description*}\\n%s\\\\end{description*}\\n\", \n",
      " .     only_named_item = \"\\\\textbf{%s:} %s\", escape_fun = latex_escape)\n",
      "10. latex_escape_names(obj)\n",
      "11. .escape_names(obj, \"latex\")\n",
      "12. colnames(obj)\n"
     ]
    },
    {
     "data": {
      "text/html": [
       "<dl class=dl-horizontal>\n",
       "\t<dt>C00000935</dt>\n",
       "\t\t<dd>109327405</dd>\n",
       "\t<dt>C00571703</dt>\n",
       "\t\t<dd>114336858</dd>\n",
       "\t<dt>C00003418</dt>\n",
       "\t\t<dd>116710927</dd>\n",
       "\t<dt>C00484642</dt>\n",
       "\t\t<dd>130390881</dd>\n",
       "\t<dt>C00504530</dt>\n",
       "\t\t<dd>133582635</dd>\n",
       "\t<dt>C00401224</dt>\n",
       "\t\t<dd>564924013</dd>\n",
       "</dl>\n"
      ],
      "text/plain": [
       "C00000935 C00571703 C00003418 C00484642 C00504530 C00401224 \n",
       "109327405 114336858 116710927 130390881 133582635 564924013 "
      ]
     },
     "metadata": {},
     "output_type": "display_data"
    }
   ],
   "source": [
    "tail(sort(tapply(myDF$V15,myDF$V1,sum, na.rm=TRUE)))"
   ]
  },
  {
   "cell_type": "markdown",
   "metadata": {},
   "source": [
    "Using shortfile to get smaller portion of data.\n",
    "\n",
    "\n",
    "tapply will split the donation amounts by each committee. for each unqiue entry, use sum that adds up each amount of $. Then sort, least the greatest, then tail to get very last \n",
    "C00000401224 is the largest donation. "
   ]
  },
  {
   "cell_type": "code",
   "execution_count": null,
   "metadata": {
    "collapsed": true
   },
   "outputs": [],
   "source": []
  },
  {
   "cell_type": "markdown",
   "metadata": {},
   "source": [
    "**1b.**  Use the tapply function to make a matrix \n",
    "     whose rows correspond to states, \n",
    "     whose columns correspond to the \"filer identification numbers\" of \n",
    "committees, \n",
    "     and whose entries contain the total amount of the donations given \n",
    "     to the committees, by donors from each individual state. \n",
    "     Hint:  Wrap the states and the filer identification numbers into a \n",
    "list. \n",
    "     Print the block of first 10 rows and 10 columns, so that the TA's \n",
    "can see the results of your work. "
   ]
  },
  {
   "cell_type": "code",
   "execution_count": 22,
   "metadata": {},
   "outputs": [
    {
     "data": {
      "text/html": [
       "<table>\n",
       "<thead><tr><th></th><th scope=col>C00000059</th><th scope=col>C00000422</th><th scope=col>C00000638</th><th scope=col>C00000729</th><th scope=col>C00000885</th><th scope=col>C00000901</th><th scope=col>C00000935</th><th scope=col>C00000984</th><th scope=col>C00001016</th><th scope=col>C00001180</th></tr></thead>\n",
       "<tbody>\n",
       "\t<tr><th scope=row></th><td> NA     </td><td>   NA   </td><td>NA      </td><td>   NA   </td><td>   NA   </td><td>     0  </td><td>  174182</td><td>  NA    </td><td>    NA  </td><td>NA      </td></tr>\n",
       "\t<tr><th scope=row>AA</th><td> NA     </td><td>   NA   </td><td>NA      </td><td>   NA   </td><td>   NA   </td><td>    NA  </td><td>   15336</td><td>  NA    </td><td>    NA  </td><td>NA      </td></tr>\n",
       "\t<tr><th scope=row>AE</th><td> NA     </td><td>   NA   </td><td>NA      </td><td>   NA   </td><td>   NA   </td><td>    NA  </td><td>   13122</td><td>  NA    </td><td>    NA  </td><td>NA      </td></tr>\n",
       "\t<tr><th scope=row>AK</th><td> NA     </td><td> 5148   </td><td>NA      </td><td> 4384   </td><td> 1985   </td><td> 23135  </td><td>  175850</td><td>  NA    </td><td>  8674  </td><td>NA      </td></tr>\n",
       "\t<tr><th scope=row>AL</th><td> NA     </td><td> 7152   </td><td>NA      </td><td> 9722   </td><td> 1868   </td><td>103106  </td><td>  407595</td><td>  NA    </td><td> 13518  </td><td>NA      </td></tr>\n",
       "\t<tr><th scope=row>AP</th><td> NA     </td><td>   NA   </td><td>NA      </td><td>   NA   </td><td>   NA   </td><td>    NA  </td><td>    4705</td><td>  NA    </td><td>    NA  </td><td>NA      </td></tr>\n",
       "\t<tr><th scope=row>AR</th><td>420     </td><td> 9994   </td><td>NA      </td><td> 5750   </td><td> 1406   </td><td> 13910  </td><td>  183457</td><td>5000    </td><td> 12730  </td><td>NA      </td></tr>\n",
       "\t<tr><th scope=row>AS</th><td> NA     </td><td>   NA   </td><td>NA      </td><td>   NA   </td><td>   NA   </td><td>    NA  </td><td>      NA</td><td>  NA    </td><td>    NA  </td><td>NA      </td></tr>\n",
       "\t<tr><th scope=row>AZ</th><td> NA     </td><td>10074   </td><td>NA      </td><td>26778   </td><td>  615   </td><td> 17040  </td><td> 1222814</td><td>  NA    </td><td> 12488  </td><td>NA      </td></tr>\n",
       "\t<tr><th scope=row>CA</th><td> NA     </td><td>89498   </td><td>NA      </td><td>41752   </td><td>31705   </td><td>108253  </td><td>28039367</td><td>5000    </td><td>256676  </td><td>NA      </td></tr>\n",
       "</tbody>\n",
       "</table>\n"
      ],
      "text/latex": [
       "\\begin{tabular}{r|llllllllll}\n",
       "  & C00000059 & C00000422 & C00000638 & C00000729 & C00000885 & C00000901 & C00000935 & C00000984 & C00001016 & C00001180\\\\\n",
       "\\hline\n",
       "\t &  NA      &    NA    & NA       &    NA    &    NA    &      0   &   174182 &   NA     &     NA   & NA      \\\\\n",
       "\tAA &  NA      &    NA    & NA       &    NA    &    NA    &     NA   &    15336 &   NA     &     NA   & NA      \\\\\n",
       "\tAE &  NA      &    NA    & NA       &    NA    &    NA    &     NA   &    13122 &   NA     &     NA   & NA      \\\\\n",
       "\tAK &  NA      &  5148    & NA       &  4384    &  1985    &  23135   &   175850 &   NA     &   8674   & NA      \\\\\n",
       "\tAL &  NA      &  7152    & NA       &  9722    &  1868    & 103106   &   407595 &   NA     &  13518   & NA      \\\\\n",
       "\tAP &  NA      &    NA    & NA       &    NA    &    NA    &     NA   &     4705 &   NA     &     NA   & NA      \\\\\n",
       "\tAR & 420      &  9994    & NA       &  5750    &  1406    &  13910   &   183457 & 5000     &  12730   & NA      \\\\\n",
       "\tAS &  NA      &    NA    & NA       &    NA    &    NA    &     NA   &       NA &   NA     &     NA   & NA      \\\\\n",
       "\tAZ &  NA      & 10074    & NA       & 26778    &   615    &  17040   &  1222814 &   NA     &  12488   & NA      \\\\\n",
       "\tCA &  NA      & 89498    & NA       & 41752    & 31705    & 108253   & 28039367 & 5000     & 256676   & NA      \\\\\n",
       "\\end{tabular}\n"
      ],
      "text/markdown": [
       "\n",
       "| <!--/--> | C00000059 | C00000422 | C00000638 | C00000729 | C00000885 | C00000901 | C00000935 | C00000984 | C00001016 | C00001180 | \n",
       "|---|---|---|---|---|---|---|---|---|---|\n",
       "|  |  NA      |    NA    | NA       |    NA    |    NA    |      0   |   174182 |   NA     |     NA   | NA       | \n",
       "| AA |  NA      |    NA    | NA       |    NA    |    NA    |     NA   |    15336 |   NA     |     NA   | NA       | \n",
       "| AE |  NA      |    NA    | NA       |    NA    |    NA    |     NA   |    13122 |   NA     |     NA   | NA       | \n",
       "| AK |  NA      |  5148    | NA       |  4384    |  1985    |  23135   |   175850 |   NA     |   8674   | NA       | \n",
       "| AL |  NA      |  7152    | NA       |  9722    |  1868    | 103106   |   407595 |   NA     |  13518   | NA       | \n",
       "| AP |  NA      |    NA    | NA       |    NA    |    NA    |     NA   |     4705 |   NA     |     NA   | NA       | \n",
       "| AR | 420      |  9994    | NA       |  5750    |  1406    |  13910   |   183457 | 5000     |  12730   | NA       | \n",
       "| AS |  NA      |    NA    | NA       |    NA    |    NA    |     NA   |       NA |   NA     |     NA   | NA       | \n",
       "| AZ |  NA      | 10074    | NA       | 26778    |   615    |  17040   |  1222814 |   NA     |  12488   | NA       | \n",
       "| CA |  NA      | 89498    | NA       | 41752    | 31705    | 108253   | 28039367 | 5000     | 256676   | NA       | \n",
       "\n",
       "\n"
      ],
      "text/plain": [
       "   C00000059 C00000422 C00000638 C00000729 C00000885 C00000901 C00000935\n",
       "    NA          NA     NA           NA        NA          0      174182 \n",
       "AA  NA          NA     NA           NA        NA         NA       15336 \n",
       "AE  NA          NA     NA           NA        NA         NA       13122 \n",
       "AK  NA        5148     NA         4384      1985      23135      175850 \n",
       "AL  NA        7152     NA         9722      1868     103106      407595 \n",
       "AP  NA          NA     NA           NA        NA         NA        4705 \n",
       "AR 420        9994     NA         5750      1406      13910      183457 \n",
       "AS  NA          NA     NA           NA        NA         NA          NA \n",
       "AZ  NA       10074     NA        26778       615      17040     1222814 \n",
       "CA  NA       89498     NA        41752     31705     108253    28039367 \n",
       "   C00000984 C00001016 C00001180\n",
       "     NA          NA    NA       \n",
       "AA   NA          NA    NA       \n",
       "AE   NA          NA    NA       \n",
       "AK   NA        8674    NA       \n",
       "AL   NA       13518    NA       \n",
       "AP   NA          NA    NA       \n",
       "AR 5000       12730    NA       \n",
       "AS   NA          NA    NA       \n",
       "AZ   NA       12488    NA       \n",
       "CA 5000      256676    NA       "
      ]
     },
     "metadata": {},
     "output_type": "display_data"
    }
   ],
   "source": [
    "tapply(myDF$V15,list(myDF$V10,myDF$V1),sum,na.rm=TRUE)[1:10,1:10]"
   ]
  },
  {
   "cell_type": "markdown",
   "metadata": {},
   "source": [
    "broke up the dollar amounts by each unique pair of state and committee "
   ]
  },
  {
   "cell_type": "markdown",
   "metadata": {},
   "source": [
    "**2.**   For this question, be sure to take into account the city and state \n",
    "(together). \n",
    "\n",
    "**2a.**  Identify the six cities that made the largest number of donations. \n"
   ]
  },
  {
   "cell_type": "code",
   "execution_count": 23,
   "metadata": {
    "collapsed": true
   },
   "outputs": [],
   "source": [
    "myDF$citystate=paste(myDF$V9,myDF$V10)"
   ]
  },
  {
   "cell_type": "code",
   "execution_count": 24,
   "metadata": {},
   "outputs": [
    {
     "data": {
      "text/plain": [
       "\n",
       " PHILADELPHIA PA       HOUSTON TX   LOS ANGELES CA SAN FRANCISCO CA \n",
       "          191667           208899           208984           210446 \n",
       "   WASHINGTON DC      NEW YORK NY \n",
       "          372369           592322 "
      ]
     },
     "metadata": {},
     "output_type": "display_data"
    }
   ],
   "source": [
    "tail(sort(table(myDF$citystate)))"
   ]
  },
  {
   "cell_type": "markdown",
   "metadata": {},
   "source": [
    "used paste because it combined the 2 columns and returned one column with both material. \n",
    "\n",
    "pulled data to get the answer, seperated the answer by city, state "
   ]
  },
  {
   "cell_type": "markdown",
   "metadata": {},
   "source": [
    "**2b.**  Identify the six cities that made the largest monetary amount of funding \n",
    "donated. "
   ]
  },
  {
   "cell_type": "code",
   "execution_count": 25,
   "metadata": {},
   "outputs": [
    {
     "name": "stderr",
     "output_type": "stream",
     "text": [
      "ERROR while rich displaying an object: Error in dn[[2L]]: subscript out of bounds\n",
      "\n",
      "Traceback:\n",
      "1. FUN(X[[i]], ...)\n",
      "2. tryCatch(withCallingHandlers({\n",
      " .     rpr <- mime2repr[[mime]](obj)\n",
      " .     if (is.null(rpr)) \n",
      " .         return(NULL)\n",
      " .     prepare_content(is.raw(rpr), rpr)\n",
      " . }, error = error_handler), error = outer_handler)\n",
      "3. tryCatchList(expr, classes, parentenv, handlers)\n",
      "4. tryCatchOne(expr, names, parentenv, handlers[[1L]])\n",
      "5. doTryCatch(return(expr), name, parentenv, handler)\n",
      "6. withCallingHandlers({\n",
      " .     rpr <- mime2repr[[mime]](obj)\n",
      " .     if (is.null(rpr)) \n",
      " .         return(NULL)\n",
      " .     prepare_content(is.raw(rpr), rpr)\n",
      " . }, error = error_handler)\n",
      "7. mime2repr[[mime]](obj)\n",
      "8. repr_markdown.integer(obj)\n",
      "9. repr_vector_generic(html_escape_names(obj), \"%s. %s\\n\", \"%s\\n:   %s\", \n",
      " .     \"**%s:** %s\", \"%s\\n\\n\", item_uses_numbers = TRUE, escape_fun = html_escape)\n",
      "10. html_escape_names(obj)\n",
      "11. .escape_names(obj, \"html\")\n",
      "12. colnames(obj)\n",
      "ERROR while rich displaying an object: Error in dn[[2L]]: subscript out of bounds\n",
      "\n",
      "Traceback:\n",
      "1. FUN(X[[i]], ...)\n",
      "2. tryCatch(withCallingHandlers({\n",
      " .     rpr <- mime2repr[[mime]](obj)\n",
      " .     if (is.null(rpr)) \n",
      " .         return(NULL)\n",
      " .     prepare_content(is.raw(rpr), rpr)\n",
      " . }, error = error_handler), error = outer_handler)\n",
      "3. tryCatchList(expr, classes, parentenv, handlers)\n",
      "4. tryCatchOne(expr, names, parentenv, handlers[[1L]])\n",
      "5. doTryCatch(return(expr), name, parentenv, handler)\n",
      "6. withCallingHandlers({\n",
      " .     rpr <- mime2repr[[mime]](obj)\n",
      " .     if (is.null(rpr)) \n",
      " .         return(NULL)\n",
      " .     prepare_content(is.raw(rpr), rpr)\n",
      " . }, error = error_handler)\n",
      "7. mime2repr[[mime]](obj)\n",
      "8. repr_latex.integer(obj)\n",
      "9. repr_vector_generic(latex_escape_names(obj), \"\\\\item %s\\n\", \"\\\\item[%s] %s\\n\", \n",
      " .     \"\\\\textbf{%s:} %s\", enum_wrap = \"\\\\begin{enumerate*}\\n%s\\\\end{enumerate*}\\n\", \n",
      " .     named_wrap = \"\\\\begin{description*}\\n%s\\\\end{description*}\\n\", \n",
      " .     only_named_item = \"\\\\textbf{%s:} %s\", escape_fun = latex_escape)\n",
      "10. latex_escape_names(obj)\n",
      "11. .escape_names(obj, \"latex\")\n",
      "12. colnames(obj)\n"
     ]
    },
    {
     "data": {
      "text/html": [
       "<dl class=dl-horizontal>\n",
       "\t<dt>HOUSTON TX</dt>\n",
       "\t\t<dd>85003545</dd>\n",
       "\t<dt>CHICAGO IL</dt>\n",
       "\t\t<dd>98343500</dd>\n",
       "\t<dt>LAS VEGAS NV</dt>\n",
       "\t\t<dd>141422236</dd>\n",
       "\t<dt>SAN FRANCISCO CA</dt>\n",
       "\t\t<dd>163853352</dd>\n",
       "\t<dt>WASHINGTON DC</dt>\n",
       "\t\t<dd>331998039</dd>\n",
       "\t<dt>NEW YORK NY</dt>\n",
       "\t\t<dd>385215885</dd>\n",
       "</dl>\n"
      ],
      "text/plain": [
       "      HOUSTON TX       CHICAGO IL     LAS VEGAS NV SAN FRANCISCO CA \n",
       "        85003545         98343500        141422236        163853352 \n",
       "   WASHINGTON DC      NEW YORK NY \n",
       "       331998039        385215885 "
      ]
     },
     "metadata": {},
     "output_type": "display_data"
    }
   ],
   "source": [
    "tail(sort(tapply(myDF$V15,myDF$citystate,sum, na.rm=TRUE)))"
   ]
  },
  {
   "cell_type": "markdown",
   "metadata": {},
   "source": [
    "used tapply split the data up according to city state. "
   ]
  },
  {
   "cell_type": "markdown",
   "metadata": {},
   "source": [
    "**3a.**  Split the data (using the split command) about the \n",
    "donations, \n",
    "     according to the day when the transaction was made. "
   ]
  },
  {
   "cell_type": "code",
   "execution_count": 26,
   "metadata": {
    "collapsed": true
   },
   "outputs": [],
   "source": [
    "myresult=split(myDF$V15,myDF$V14)"
   ]
  },
  {
   "cell_type": "markdown",
   "metadata": {},
   "source": [
    "Split up donations by the day they were made. "
   ]
  },
  {
   "cell_type": "markdown",
   "metadata": {},
   "source": [
    "Once this split is accomplished, use the sapply function to find \n",
    "the following: \n",
    "\n",
    "**3b.**  On which day was the total monetary amount of donations the largest? \n"
   ]
  },
  {
   "cell_type": "code",
   "execution_count": 27,
   "metadata": {},
   "outputs": [
    {
     "data": {
      "text/html": [
       "<dl class=dl-horizontal>\n",
       "\t<dt>10092018</dt>\n",
       "\t\t<dd>40567609</dd>\n",
       "\t<dt>8312018</dt>\n",
       "\t\t<dd>42082139</dd>\n",
       "\t<dt>9302018</dt>\n",
       "\t\t<dd>50721338</dd>\n",
       "\t<dt>10172018</dt>\n",
       "\t\t<dd>54328130</dd>\n",
       "\t<dt>10052018</dt>\n",
       "\t\t<dd>67842423</dd>\n",
       "\t<dt>9122018</dt>\n",
       "\t\t<dd>70281892</dd>\n",
       "</dl>\n"
      ],
      "text/latex": [
       "\\begin{description*}\n",
       "\\item[10092018] 40567609\n",
       "\\item[8312018] 42082139\n",
       "\\item[9302018] 50721338\n",
       "\\item[10172018] 54328130\n",
       "\\item[10052018] 67842423\n",
       "\\item[9122018] 70281892\n",
       "\\end{description*}\n"
      ],
      "text/markdown": [
       "10092018\n",
       ":   405676098312018\n",
       ":   420821399302018\n",
       ":   5072133810172018\n",
       ":   5432813010052018\n",
       ":   678424239122018\n",
       ":   70281892\n",
       "\n"
      ],
      "text/plain": [
       "10092018  8312018  9302018 10172018 10052018  9122018 \n",
       "40567609 42082139 50721338 54328130 67842423 70281892 "
      ]
     },
     "metadata": {},
     "output_type": "display_data"
    }
   ],
   "source": [
    "tail(sort(sapply(myresult,sum)))"
   ]
  },
  {
   "cell_type": "markdown",
   "metadata": {},
   "source": [
    "tail allows to view the end results"
   ]
  },
  {
   "cell_type": "markdown",
   "metadata": {},
   "source": [
    "**3c.**  On which day was the largest number of donations made? \n"
   ]
  },
  {
   "cell_type": "code",
   "execution_count": 28,
   "metadata": {},
   "outputs": [
    {
     "data": {
      "text/html": [
       "<dl class=dl-horizontal>\n",
       "\t<dt>7312018</dt>\n",
       "\t\t<dd>127886</dd>\n",
       "\t<dt>10172018</dt>\n",
       "\t\t<dd>135441</dd>\n",
       "\t<dt>12312017</dt>\n",
       "\t\t<dd>148407</dd>\n",
       "\t<dt>8312018</dt>\n",
       "\t\t<dd>157369</dd>\n",
       "\t<dt>11302017</dt>\n",
       "\t\t<dd>169518</dd>\n",
       "\t<dt>9302018</dt>\n",
       "\t\t<dd>231400</dd>\n",
       "</dl>\n"
      ],
      "text/latex": [
       "\\begin{description*}\n",
       "\\item[7312018] 127886\n",
       "\\item[10172018] 135441\n",
       "\\item[12312017] 148407\n",
       "\\item[8312018] 157369\n",
       "\\item[11302017] 169518\n",
       "\\item[9302018] 231400\n",
       "\\end{description*}\n"
      ],
      "text/markdown": [
       "7312018\n",
       ":   12788610172018\n",
       ":   13544112312017\n",
       ":   1484078312018\n",
       ":   15736911302017\n",
       ":   1695189302018\n",
       ":   231400\n",
       "\n"
      ],
      "text/plain": [
       " 7312018 10172018 12312017  8312018 11302017  9302018 \n",
       "  127886   135441   148407   157369   169518   231400 "
      ]
     },
     "metadata": {},
     "output_type": "display_data"
    }
   ],
   "source": [
    "tail(sort(sapply(myresult,length)))"
   ]
  },
  {
   "cell_type": "markdown",
   "metadata": {},
   "source": [
    "Length returns the number of donations. "
   ]
  }
 ],
 "metadata": {
  "kernelspec": {
   "display_name": "R",
   "language": "R",
   "name": "ir"
  },
  "language_info": {
   "codemirror_mode": "r",
   "file_extension": ".r",
   "mimetype": "text/x-r-source",
   "name": "R",
   "pygments_lexer": "r",
   "version": "3.4.3"
  }
 },
 "nbformat": 4,
 "nbformat_minor": 2
}
