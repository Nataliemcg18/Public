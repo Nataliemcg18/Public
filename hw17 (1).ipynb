{
 "cells": [
  {
   "cell_type": "markdown",
   "metadata": {},
   "source": [
    "# Project 17"
   ]
  },
  {
   "cell_type": "markdown",
   "metadata": {},
   "source": [
    "Name: Natalie McGuckin"
   ]
  },
  {
   "cell_type": "markdown",
   "metadata": {},
   "source": [
    "Recall the 2018 election data, available here:\n",
    "/depot/statclass/data/election2018/itcont.txt\n",
    "and the data dictionary for this data, which is available here:\n",
    "https://www.fec.gov/campaign-finance-data/contributions-individuals-\n",
    "file-description/"
   ]
  },
  {
   "cell_type": "markdown",
   "metadata": {},
   "source": [
    "**1a.** Use the system command in R to read the data\n",
    "     for the first 100,000 donations\n",
    "     and store this data into a file called:  shortfile.txt\n",
    "     (We use .txt instead of .csv because\n",
    "      the file is not comma delimited.)"
   ]
  },
  {
   "cell_type": "code",
   "execution_count": 3,
   "metadata": {
    "collapsed": true
   },
   "outputs": [],
   "source": [
    "system(\"head -100000 /depot/statclass/data/election2018/itcont.txt > shortfile.txt\")"
   ]
  },
  {
   "cell_type": "markdown",
   "metadata": {},
   "source": [
    "Download the data with shortfile.txt. We do -100000 because we want the first 100,000 donations "
   ]
  },
  {
   "cell_type": "markdown",
   "metadata": {},
   "source": [
    "**1b.** Use the read.csv command to read this data\n",
    "      into a data frame in R, called:  myDF\n",
    "     (Hint: check the help for read.csv:\n",
    "      ?read.csv\n",
    "      to remind yourself about the \"sep\" and\n",
    "      the \"header\" parameters for read.csv.\n",
    "      In particular, this data has \"|\" as the separator between\n",
    "      the data elements, and it does not have a header.)"
   ]
  },
  {
   "cell_type": "code",
   "execution_count": 4,
   "metadata": {},
   "outputs": [],
   "source": [
    "myDF <- read.csv(\"shortfile.txt\", sep= \"|\",header=F)"
   ]
  },
  {
   "cell_type": "markdown",
   "metadata": {},
   "source": [
    "Naming the data myDF and downloading that. Header= False because previously there were no headers. "
   ]
  },
  {
   "cell_type": "markdown",
   "metadata": {},
   "source": [
    "**1c.** Check the dimension of the resulting data frame.\n",
    "     It should be 100,000 rows and 21 columns."
   ]
  },
  {
   "cell_type": "code",
   "execution_count": 5,
   "metadata": {},
   "outputs": [
    {
     "data": {
      "text/html": [
       "<ol class=list-inline>\n",
       "\t<li>100000</li>\n",
       "\t<li>21</li>\n",
       "</ol>\n"
      ],
      "text/latex": [
       "\\begin{enumerate*}\n",
       "\\item 100000\n",
       "\\item 21\n",
       "\\end{enumerate*}\n"
      ],
      "text/markdown": [
       "1. 100000\n",
       "2. 21\n",
       "\n",
       "\n"
      ],
      "text/plain": [
       "[1] 100000     21"
      ]
     },
     "metadata": {},
     "output_type": "display_data"
    }
   ],
   "source": [
    "dim(myDF)"
   ]
  },
  {
   "cell_type": "markdown",
   "metadata": {},
   "source": [
    "Dim stands for dimension, so it checks how many rows and columns there are. "
   ]
  },
  {
   "cell_type": "markdown",
   "metadata": {},
   "source": [
    "**2a.** Split the data for these 100,000 donations according to the State\n",
    "     from which the donation was given.\n",
    "     Store the resulting data in a list called:  myresult\n",
    "     (Hint: Check the data dictionary for the meanings of the columns,\n",
    "      since we do not have column headers.)\n",
    "     (Another hint:  Remember that we can refer to a column\n",
    "                     of data in a data frame\n",
    "                     by its number, for instance, myDF[[8]]\n",
    "                     is the name of the donor.)"
   ]
  },
  {
   "cell_type": "code",
   "execution_count": 6,
   "metadata": {
    "collapsed": true
   },
   "outputs": [],
   "source": [
    "myresults= split(myDF[[15]],myDF[[10]])"
   ]
  },
  {
   "cell_type": "markdown",
   "metadata": {},
   "source": [
    "15th column is for money that is why we are using that. Using split to get the info. "
   ]
  },
  {
   "cell_type": "markdown",
   "metadata": {},
   "source": [
    "**2b.** Check the names of myresult:\n",
    "     names(myresult)\n",
    "     We see the the first element of the list does not have a name.\n",
    "     This is a pain!  To solve this,\n",
    "     you can give it a name, for instance, by writing:\n",
    "     names(myresult)[1] <- \"unknown\"\n",
    "     (or any other kind of name that you want,\n",
    "      to indicate that the name is unknown)"
   ]
  },
  {
   "cell_type": "code",
   "execution_count": 9,
   "metadata": {},
   "outputs": [],
   "source": [
    "names(myresults)[1]<-\"unknown\""
   ]
  },
  {
   "cell_type": "markdown",
   "metadata": {},
   "source": [
    "First data set that came up was unknown so that is why we call it unknown. "
   ]
  },
  {
   "cell_type": "markdown",
   "metadata": {},
   "source": [
    "**3a.** Find the mean donation amount, according to each state."
   ]
  },
  {
   "cell_type": "code",
   "execution_count": 10,
   "metadata": {
    "collapsed": true
   },
   "outputs": [],
   "source": [
    "stateMean<-sapply(myresults,mean)"
   ]
  },
  {
   "cell_type": "markdown",
   "metadata": {},
   "source": [
    "using sapply to find the mean donation amount. "
   ]
  },
  {
   "cell_type": "markdown",
   "metadata": {},
   "source": [
    "**3b.** What is the mean donation from Hoosiers\n",
    "     (i.e., for people from Indiana)?"
   ]
  },
  {
   "cell_type": "code",
   "execution_count": 11,
   "metadata": {},
   "outputs": [
    {
     "data": {
      "text/html": [
       "<strong>IN:</strong> 367.914678899083"
      ],
      "text/latex": [
       "\\textbf{IN:} 367.914678899083"
      ],
      "text/markdown": [
       "**IN:** 367.914678899083"
      ],
      "text/plain": [
       "      IN \n",
       "367.9147 "
      ]
     },
     "metadata": {},
     "output_type": "display_data"
    }
   ],
   "source": [
    "stateMean[\"IN\"]"
   ]
  },
  {
   "cell_type": "markdown",
   "metadata": {},
   "source": [
    "State mean of Indiana. "
   ]
  },
  {
   "cell_type": "markdown",
   "metadata": {},
   "source": [
    "**3c.** Find the standard deviation of the donation amount,\n",
    "     according to each state."
   ]
  },
  {
   "cell_type": "code",
   "execution_count": 13,
   "metadata": {},
   "outputs": [],
   "source": [
    "SD<-sapply(myresults,sd)"
   ]
  },
  {
   "cell_type": "markdown",
   "metadata": {},
   "source": [
    "Used sapply to find SD "
   ]
  },
  {
   "cell_type": "markdown",
   "metadata": {},
   "source": [
    "**3d.** Find the number of donations, according to each state."
   ]
  },
  {
   "cell_type": "code",
   "execution_count": 14,
   "metadata": {
    "collapsed": true
   },
   "outputs": [],
   "source": [
    "mydonations<-sapply(myresults, length)"
   ]
  },
  {
   "cell_type": "markdown",
   "metadata": {},
   "source": [
    "**3e.** For a sanity check, make sure that\n",
    "     the number of donations in 3d adds up to 100,000 altogether."
   ]
  },
  {
   "cell_type": "code",
   "execution_count": 15,
   "metadata": {},
   "outputs": [
    {
     "data": {
      "text/html": [
       "100000"
      ],
      "text/latex": [
       "100000"
      ],
      "text/markdown": [
       "100000"
      ],
      "text/plain": [
       "[1] 100000"
      ]
     },
     "metadata": {},
     "output_type": "display_data"
    }
   ],
   "source": [
    "sum(mydonations)"
   ]
  },
  {
   "cell_type": "markdown",
   "metadata": {},
   "source": [
    "used sum to get sum of all donations "
   ]
  }
 ],
 "metadata": {
  "kernelspec": {
   "display_name": "R",
   "language": "R",
   "name": "ir"
  },
  "language_info": {
   "codemirror_mode": "r",
   "file_extension": ".r",
   "mimetype": "text/x-r-source",
   "name": "R",
   "pygments_lexer": "r",
   "version": "3.4.3"
  }
 },
 "nbformat": 4,
 "nbformat_minor": 2
}
